{
 "cells": [
  {
   "cell_type": "markdown",
   "metadata": {},
   "source": [
    "## Notebook 6: Decision Tree"
   ]
  },
  {
   "cell_type": "markdown",
   "metadata": {},
   "source": [
    "Este notebook está basado en varios videos sobre Machine Learning elaborados por <i>Google Developers</i> en Youtube. Ver: <i><a href=\"https://www.youtube.com/watch?v=cKxRvEZd3Mw\"> Machine Learning Recipes</a></i>."
   ]
  },
  {
   "cell_type": "markdown",
   "metadata": {},
   "source": [
    "Este notebook se divide en 2 partes:\n",
    "- En la primera parte se aplica un algoritmo de Árbol de Decisión para aprender un modelo capaz de clasificar los datos del dataset \"Titanic\" (visto en un notebook anterior). Compararemos su precision y recall con otros algoritmos de clasificación (kNN, Regresión Logística y Random Forest).\n",
    "- En la segunda parte se implenta un algoritmo de Árbol de Decisión <i>from scratch</i> (desde cero) en Python para identificar sus características más precisamente."
   ]
  },
  {
   "cell_type": "markdown",
   "metadata": {},
   "source": [
    "# PARTE I\n",
    "\n",
    "## 0. Preparar el dataset 'Titanic' \n",
    "\n",
    "Como en un notebook anterior, vamos a utilizar el dataset 'Titanic' con el cuál se tratar de predicir si una persona va a sobrevivir o no dadas algunas características (edad, genero, n° de niños, etc.).\n",
    "\n",
    "En primera instancia, vamos a aplicar nuevamente todos los procesos para preparar el dataset y cargarlo en un DataFrame."
   ]
  },
  {
   "cell_type": "code",
   "execution_count": 31,
   "metadata": {},
   "outputs": [],
   "source": [
    "import warnings\n",
    "warnings.filterwarnings('ignore')\n",
    "import numpy as np  \n",
    "import matplotlib.pyplot as plt  \n",
    "import pandas as pd \n",
    "\n",
    "def age_approx(cols):\n",
    "    Age = cols[0]\n",
    "    Pclass = cols[1]\n",
    "    \n",
    "    if pd.isnull(Age):\n",
    "        if Pclass == 1:\n",
    "            return 37\n",
    "        elif Pclass == 2:\n",
    "            return 29\n",
    "        else:\n",
    "            return 24\n",
    "    else:\n",
    "        return Age\n",
    "\n",
    "# Read dataset to pandas dataframe\n",
    "url = 'https://raw.githubusercontent.com/BigDataGal/Python-for-Data-Science/master/titanic-train.csv'\n",
    "titanic = pd.read_csv(url)\n",
    "titanic.columns = ['PassengerId','Survived','Pclass','Name','Sex','Age','SibSp','Parch','Ticket','Fare','Cabin','Embarked']\n",
    "titanic_data = titanic.drop(['PassengerId','Name','Ticket','Cabin'], 1)\n",
    "\n",
    "titanic_data['Age'] = titanic_data[['Age', 'Pclass']].apply(age_approx, axis=1)\n",
    "titanic_data.isnull().sum()\n",
    "\n",
    "titanic_data.dropna(inplace=True)\n",
    "titanic_data.isnull().sum()\n",
    "\n",
    "gender = pd.get_dummies(titanic_data['Sex'],drop_first=True)\n",
    "embark_location = pd.get_dummies(titanic_data['Embarked'],drop_first=True)\n",
    "\n",
    "titanic_data.drop(['Sex', 'Embarked'],axis=1,inplace=True)\n",
    "\n",
    "titanic_dmy = pd.concat([titanic_data,gender,embark_location],axis=1)\n",
    "\n",
    "X = titanic_dmy.ix[:,(1,2,3,4,5,6,7,8)].values\n",
    "y = titanic_dmy.ix[:,0].values\n"
   ]
  },
  {
   "cell_type": "markdown",
   "metadata": {},
   "source": [
    "## 1. Entrenar un clasificador de tipo DecisionTree "
   ]
  },
  {
   "cell_type": "code",
   "execution_count": 32,
   "metadata": {},
   "outputs": [
    {
     "name": "stdout",
     "output_type": "stream",
     "text": [
      "[[131  33]\n",
      " [ 24  79]]\n",
      "             precision    recall  f1-score   support\n",
      "\n",
      "          0       0.85      0.80      0.82       164\n",
      "          1       0.71      0.77      0.73       103\n",
      "\n",
      "avg / total       0.79      0.79      0.79       267\n",
      "\n"
     ]
    },
    {
     "name": "stderr",
     "output_type": "stream",
     "text": [
      "/Users/intiromero/anaconda3/lib/python3.6/site-packages/sklearn/cross_validation.py:41: DeprecationWarning: This module was deprecated in version 0.18 in favor of the model_selection module into which all the refactored classes and functions are moved. Also note that the interface of the new CV iterators are different from that of this module. This module will be removed in 0.20.\n",
      "  \"This module will be removed in 0.20.\", DeprecationWarning)\n"
     ]
    }
   ],
   "source": [
    "\n",
    "from sklearn.cross_validation import train_test_split\n",
    "X_train, X_test, y_train, y_test = train_test_split(X, y, test_size = .3, random_state=25)\n",
    "\n",
    "from sklearn import tree\n",
    "#Entrenamiento\n",
    "clf = tree.DecisionTreeClassifier()\n",
    "clf = clf.fit(X_train,y_train)\n",
    "#Predicciones\n",
    "y_pred = clf.predict(X_test)\n",
    "#Evaluación del rendimiento del clasificador\n",
    "from sklearn.metrics import confusion_matrix\n",
    "confusion_matrix = confusion_matrix(y_test, y_pred)\n",
    "print(confusion_matrix)\n",
    "#Print de la matriz de confusión\n",
    "from sklearn.metrics import classification_report\n",
    "print(classification_report(y_test, y_pred))"
   ]
  },
  {
   "cell_type": "code",
   "execution_count": 33,
   "metadata": {},
   "outputs": [
    {
     "data": {
      "text/plain": [
       "array([1, 1, 0, 1, 0, 0, 1, 1, 0, 1, 0, 0, 1, 0, 0, 0, 0, 1, 1, 1, 0, 1,\n",
       "       0, 0, 0, 1, 1, 0, 0, 0, 0, 0, 0, 0, 1, 0, 0, 0, 1, 0, 0, 1, 1, 1,\n",
       "       0, 1, 1, 1, 0, 0, 1, 1, 1, 1, 1, 1, 1, 1, 0, 0, 1, 1, 0, 1, 0, 1,\n",
       "       0, 1, 1, 0, 1, 1, 0, 1, 0, 0, 0, 0, 0, 0, 0, 0, 1, 0, 0, 0, 0, 0,\n",
       "       0, 0, 0, 1, 0, 0, 0, 1, 0, 1, 0, 1, 0, 0, 1, 0, 0, 0, 0, 0, 0, 0,\n",
       "       1, 1, 1, 0, 1, 0, 1, 0, 0, 1, 0, 1, 0, 0, 1, 0, 0, 1, 1, 1, 1, 0,\n",
       "       1, 0, 1, 1, 0, 1, 0, 1, 0, 1, 1, 0, 1, 1, 1, 0, 0, 1, 1, 0, 0, 0,\n",
       "       1, 1, 0, 0, 0, 0, 1, 0, 0, 0, 1, 0, 1, 0, 0, 1, 1, 0, 0, 0, 0, 0,\n",
       "       0, 0, 0, 0, 0, 0, 0, 1, 0, 0, 0, 0, 0, 0, 1, 0, 1, 0, 0, 1, 0, 1,\n",
       "       1, 0, 1, 1, 0, 0, 0, 0, 1, 0, 0, 0, 1, 0, 1, 0, 1, 1, 0, 1, 0, 0,\n",
       "       0, 0, 1, 0, 0, 0, 0, 0, 0, 1, 1, 0, 1, 1, 0, 1, 1, 0, 0, 1, 0, 0,\n",
       "       0, 1, 0, 1, 0, 1, 0, 1, 0, 1, 1, 1, 0, 1, 1, 1, 1, 1, 0, 1, 1, 0,\n",
       "       1, 0, 0])"
      ]
     },
     "execution_count": 33,
     "metadata": {},
     "output_type": "execute_result"
    }
   ],
   "source": [
    "y_pred"
   ]
  },
  {
   "cell_type": "markdown",
   "metadata": {},
   "source": [
    "Los modelos de clasificación de tipo DecisionTree tienen una caracteristica interesante (en comparación con otros algoritmos de clasificación): se puede <b>visualizar</b> el modelo y <b>entender</b> cómo toma decisiones. El código de la celda siguiente permite visualizar el modelo que hemos aprendidó."
   ]
  },
  {
   "cell_type": "code",
   "execution_count": null,
   "metadata": {},
   "outputs": [],
   "source": [
    "from sklearn.externals.six import StringIO\n",
    "import pydot #sudo python3.6.4 -m pip install pydot\n",
    "\n",
    "dot_data = StringIO()\n",
    "\n",
    "features=['Pclass','Age','SibSp','Parch','Fare','male','Q', 'S']\n",
    "classes=['yes','no']\n",
    "tree.export_graphviz(clf,out_file=dot_data,feature_names=features,class_names=classes, filled=True, rounded=True, impurity=False)\n",
    "\n",
    "graph = pydot.graph_from_dot_data(dot_data.getvalue())\n",
    "graph[0].write_png('modelo.png')"
   ]
  },
  {
   "cell_type": "markdown",
   "metadata": {},
   "source": [
    "<img src=\"modelo.png\">Modelo DecisionTree</img>"
   ]
  },
  {
   "cell_type": "code",
   "execution_count": 36,
   "metadata": {},
   "outputs": [],
   "source": [
    "from sklearn.ensemble import RandomForestClassifier\n",
    "\n",
    "clf = RandomForestClassifier(n_estimators=20)\n",
    "clf = clf.fit(X_train, y_train)"
   ]
  },
  {
   "cell_type": "code",
   "execution_count": 37,
   "metadata": {},
   "outputs": [
    {
     "name": "stdout",
     "output_type": "stream",
     "text": [
      "[[138  26]\n",
      " [ 28  75]]\n",
      "             precision    recall  f1-score   support\n",
      "\n",
      "          0       0.83      0.84      0.84       164\n",
      "          1       0.74      0.73      0.74       103\n",
      "\n",
      "avg / total       0.80      0.80      0.80       267\n",
      "\n"
     ]
    }
   ],
   "source": [
    "#Predicciones\n",
    "y_pred = clf.predict(X_test)\n",
    "#Evaluación del rendimiento del clasificador\n",
    "from sklearn.metrics import confusion_matrix\n",
    "confusion_matrix = confusion_matrix(y_test, y_pred)\n",
    "print(confusion_matrix)\n",
    "#Print de la matriz de confusión\n",
    "from sklearn.metrics import classification_report\n",
    "print(classification_report(y_test, y_pred))"
   ]
  },
  {
   "cell_type": "markdown",
   "metadata": {},
   "source": [
    "<b>Pregunta</b>:\n",
    "- Para resolver el problema de clasificación del dataset 'Titanic', ¿Cuál algoritmo parece funcionar mejor entre kNN, Regresión Logística, DecisionTree o Random Forest?<br>\n",
    "KNN : 69% <br>\n",
    "Regresión Logóstica: 76%<br>\n",
    "DesisionTree: 79%<br>\n",
    "Random Forest: 80%<br>\n",
    "El algoritmo que parece funcionar mejor es Random Forest.<br>\n",
    "- ¿Por qué Random Forest funciona mejor que DecisionTree? ¿Cuál es la particularidad de Random Forest?<br>\n",
    "La razón es el funcionamiento interno de Random Forest. Random Forest utiliza internamente DesisionTree para realizar las predicciones. El funcionamiento de Random Forest se podría dividir en 2 partes:\n",
    "    - Muestras de datos al azar: Esto quiere decir que se elijen varios conjuntos de entrenamiento del dataset de forma aleatoria, pudiendo existir solapamiento entre datos seleccionados.\n",
    "    - Voto: Con los datos de entrenamineto seleccionados se crea un DesisionTree por cada uno de ellos y dependiendo de lo que la mayoria de DesisionTree diga como respuesta a la predicción, será el resultado de la predicción final.\n",
    "\n",
    "Podríamos concluir que Random Forest funciona mejor pues no utiliza simplemente un conjunto de datos de entrenamiento, sino varios y de forma aleatoria lo que ayuda al algoritmo a ser más efectivo a la hora de predecir resultados."
   ]
  },
  {
   "cell_type": "markdown",
   "metadata": {},
   "source": [
    "# PARTE 2\n",
    "\n",
    "## Implementar un algoritmo DecisionTree desde cero"
   ]
  },
  {
   "cell_type": "markdown",
   "metadata": {},
   "source": [
    "Este ejercicio se base en la video: https://www.youtube.com/watch?v=LDRbO9a6XPU"
   ]
  },
  {
   "cell_type": "markdown",
   "metadata": {},
   "source": [
    "Para entender más precisamente cómo y qué <b>aprenden</b> los algoritmos de tipo Decision Tree, implantamos a continuación un algoritmo desde cero en Python. En camino, presentaremos los conceptos de <b>Gini impurity</b> e <b>Information Gain</b>."
   ]
  },
  {
   "cell_type": "markdown",
   "metadata": {},
   "source": [
    "<b>a. Algoritmos de tipo Decision Tree: El ejemplo de CART</b>\n",
    "\n",
    "Existen varias variaciones de algoritmos Decision Tree, entre las cuales: ID3, C4.5, C5.0, CART <a href=\"https://en.wikipedia.org/wiki/Decision_tree\">(ver wikipedia)</a>\n",
    "Cada algoritmo comparta la misma idea: a cada nivel del árbol de decisión, el modelo formula una pregunta permitiendo poco a poco de llegar a una predicción. ¿Cómo el algoritmo sabe qué preguntas hacer y en qué orden? Es lo que vamos a responder a través del ejemplo de CART. \n",
    "\n",
    "CART (Classification and Regression Trees) inicializa la raíz del árbol con el dataset de entranemiento completo (ver Figura). Luego busca dividir los datos del dataset con una pregunta. Los nodos siguientes reciben solamente los datos que corresponde a la respuesta. Se reitera este proceso hasta desenredar totalmente los datos (cada hoja del árbol debería tener idealmente un solo tipo de label)."
   ]
  },
  {
   "cell_type": "markdown",
   "metadata": {},
   "source": [
    "<img src=\"CART.png\"></img>"
   ]
  },
  {
   "cell_type": "markdown",
   "metadata": {},
   "source": [
    "En nuestro ejemplo, el nodo 1 está totalmente desenredado (label: \"Grape\"). El nodo 2 tiene dos labeles, entonces preguntamos otra pregunta:"
   ]
  },
  {
   "cell_type": "markdown",
   "metadata": {},
   "source": [
    "<img src=\"CART2.png\"></img>"
   ]
  },
  {
   "cell_type": "markdown",
   "metadata": {},
   "source": [
    "Para construir un árbol eficiente, el punto importante es identificar qué preguntas formular y cuando. Por lo tanto, necesitamos <b>cuantificar</b> en qué medida una pregunta permite desenredar los labeles. Para hacer eso se utiliza 2 métricas:\n",
    "- el coeficiente de '<b>Gini impurity</b>': mide que tan desenredados están los labeles de un nodo.\n",
    "- el coeficiente de '<b>Information Gain</b>': mide cuánto una pregunta permite bajar el 'Gini impurity'."
   ]
  },
  {
   "cell_type": "markdown",
   "metadata": {},
   "source": [
    "<img src=\"CART3.png\"></img>"
   ]
  },
  {
   "cell_type": "markdown",
   "metadata": {},
   "source": [
    "Utilizaremos estas métricas para estimar qué preguntas hacer."
   ]
  },
  {
   "cell_type": "markdown",
   "metadata": {},
   "source": [
    "<b>b. ¿Qué preguntas formular?</b>"
   ]
  },
  {
   "cell_type": "markdown",
   "metadata": {},
   "source": [
    "<img src=\"CART4.png\"></img>"
   ]
  },
  {
   "cell_type": "markdown",
   "metadata": {},
   "source": [
    "Para saber qué preguntas formular, cada nodo itera sobre las características de los datos a su disposición y define una lista de preguntas posibles."
   ]
  },
  {
   "cell_type": "markdown",
   "metadata": {},
   "source": [
    "<b>c. Partición del dataset</b>\n",
    "\n",
    "Una vez una pregunta elegida, se divide los datos en dos según la respuesta a la pregunta."
   ]
  },
  {
   "cell_type": "markdown",
   "metadata": {},
   "source": [
    "<img src=\"CART5.png\"></img>"
   ]
  },
  {
   "cell_type": "markdown",
   "metadata": {},
   "source": [
    "<b>d. Coeficiente de Gini impurity</b>\n",
    "\n",
    "El coeficiente de Gini impurity representa la probabilidad de ser incorrecto si asigna aleatoriamente una etiqueta a un ejemplo del mismo conjunto. Por ejemplo, en los dos ejemplos siguientes: ¿Cuál es la probabilidad de equivocarse si asignamos una etiqueta del recipiente B a un dato del recipiente A?\n",
    "\n",
    "Ejemplo 1:\n",
    "<img src=\"CART-6.png\"></img>\n",
    "\n",
    "Ejemplo 2:\n",
    "<img src=\"CART-7.png\"></img>"
   ]
  },
  {
   "cell_type": "markdown",
   "metadata": {},
   "source": [
    "<b>e. Information Gain </b>\n",
    "\n",
    "La métrica de Information Gain permite medir qué pregunta optimiza el coeficiente de Gini impurity.\n",
    "\n",
    "Por cada nodo, empezamos por medir el coeficiente de Gini impurity de los labeles disponibles. Luego, por cada pregunta calculamos el coeficiente de Gini impurity de los dos sub-conjuntos de datos obtenidos.\n",
    "\n",
    "<img src=\"CART-8.png\"></img>\n",
    "\n",
    "Calculamos la incerteza (<i>impurity</i>) promedia ponderada para los dos subconjuntos de datos obtenidos. Por ejemplo:\n",
    "\n",
    "<img src=\"CART-9.png\"></img>\n",
    "\n",
    "Finalmente, conservamos la pregunta que permite optimizar la ganancia de información (Information Gain). En nuestro ejemplo:\n",
    "\n",
    "<b>Information Gain = 0.64 - 0.5 = 0.14</b>"
   ]
  },
  {
   "cell_type": "markdown",
   "metadata": {},
   "source": [
    "## Código del Decision Tree desde cero...\n",
    "\n",
    "<b>a. Dataset</b>\n",
    "\n",
    "Tenemos un dataset muy simple, constituido por 2 características y un label. En nuestro escenario, se trata de predecir cuál es la fruta a partir de su color y tamaño. Están libre de agregar nuevos ejemplos en el dataset para experimentar los cambios generados en el modelo...  "
   ]
  },
  {
   "cell_type": "markdown",
   "metadata": {},
   "source": [
    "Creamos una variable para indicar los nombres de cada columna del dataset:"
   ]
  },
  {
   "cell_type": "markdown",
   "metadata": {},
   "source": [
    "En el dataset, pueden observar que nuestros datos no son linealmente separable. Una observación de manzana y una observación de limón tienen las mismas características (segundo y quinto ejemplos del dataset). Vamos a observar cómo el algoritmo Decision Tree gestiona estos ejemplos."
   ]
  },
  {
   "cell_type": "markdown",
   "metadata": {},
   "source": [
    "<b>c. Funciones de utilidad</b>:\n",
    "\n",
    "A continuación creamos una serie de funciones Python para facilitar la observación de nuestro dataset de entrenamiento. Por cada función, creamos una pequeña demo en la celda siguiente."
   ]
  },
  {
   "cell_type": "code",
   "execution_count": 2,
   "metadata": {},
   "outputs": [],
   "source": [
    "def unique_vals(rows, col):\n",
    "    \"\"\"Find the unique values for a column in a dataset.\"\"\"\n",
    "    return set([row[col] for row in rows])"
   ]
  },
  {
   "cell_type": "code",
   "execution_count": 3,
   "metadata": {},
   "outputs": [],
   "source": [
    "def class_counts(rows):\n",
    "    \"\"\"Counts the number of each type of example in a dataset.\"\"\"\n",
    "    counts = {}  # a dictionary of label -> count.\n",
    "    for row in rows:\n",
    "        # in our dataset format, the label is always the last column\n",
    "        label = row[-1]\n",
    "        if label not in counts:\n",
    "            counts[label] = 0\n",
    "        counts[label] += 1\n",
    "    return counts"
   ]
  },
  {
   "cell_type": "code",
   "execution_count": 4,
   "metadata": {},
   "outputs": [],
   "source": [
    "def is_numeric(value):\n",
    "    \"\"\"Test if a value is numeric.\"\"\"\n",
    "    return isinstance(value, int) or isinstance(value, float)\n",
    "#######\n",
    "# Demo:\n",
    "#is_numeric(7)\n",
    "# is_numeric(\"Red\")\n",
    "#######"
   ]
  },
  {
   "cell_type": "code",
   "execution_count": 5,
   "metadata": {},
   "outputs": [],
   "source": [
    "class Question:\n",
    "    \"\"\"A Question is used to partition a dataset.\n",
    "\n",
    "    This class just records a 'column number' (e.g., 0 for Color) and a\n",
    "    'column value' (e.g., Green). The 'match' method is used to compare\n",
    "    the feature value in an example to the feature value stored in the\n",
    "    question. See the demo below.\n",
    "    \"\"\"\n",
    "\n",
    "    def __init__(self, column, value):\n",
    "        self.column = column\n",
    "        self.value = value\n",
    "\n",
    "    def match(self, example):\n",
    "        # Compare the feature value in an example to the\n",
    "        # feature value in this question.\n",
    "        val = example[self.column]\n",
    "        if is_numeric(val):\n",
    "            return val >= self.value\n",
    "        else:\n",
    "            return val == self.value\n",
    "\n",
    "    def __repr__(self):\n",
    "        # This is just a helper method to print\n",
    "        # the question in a readable format.\n",
    "        condition = \"==\"\n",
    "        if is_numeric(self.value):\n",
    "            condition = \">=\"\n",
    "        return \"Is %s %s %s?\" % (\n",
    "            header[self.column], condition, str(self.value))"
   ]
  },
  {
   "cell_type": "code",
   "execution_count": 6,
   "metadata": {},
   "outputs": [],
   "source": [
    "def partition(rows, question):\n",
    "    \"\"\"Partitions a dataset.\n",
    "\n",
    "    For each row in the dataset, check if it matches the question. If\n",
    "    so, add it to 'true rows', otherwise, add it to 'false rows'.\n",
    "    \"\"\"\n",
    "    true_rows, false_rows = [], []\n",
    "    for row in rows:\n",
    "        if question.match(row):\n",
    "            true_rows.append(row)\n",
    "        else:\n",
    "            false_rows.append(row)\n",
    "    return true_rows, false_rows"
   ]
  },
  {
   "cell_type": "code",
   "execution_count": 7,
   "metadata": {},
   "outputs": [],
   "source": [
    "def gini(rows):\n",
    "    \"\"\"Calculate the Gini Impurity for a list of rows.\n",
    "\n",
    "    There are a few different ways to do this, I thought this one was\n",
    "    the most concise. See:\n",
    "    https://en.wikipedia.org/wiki/Decision_tree_learning#Gini_impurity\n",
    "    \"\"\"\n",
    "    counts = class_counts(rows)\n",
    "    impurity = 1\n",
    "    for lbl in counts:\n",
    "        prob_of_lbl = counts[lbl] / float(len(rows))\n",
    "        impurity -= prob_of_lbl**2\n",
    "    return impurity"
   ]
  },
  {
   "cell_type": "code",
   "execution_count": 8,
   "metadata": {},
   "outputs": [],
   "source": [
    "def info_gain(left, right, current_uncertainty):\n",
    "    \"\"\"Information Gain.\n",
    "\n",
    "    The uncertainty of the starting node, minus the weighted impurity of\n",
    "    two child nodes.\n",
    "    \"\"\"\n",
    "    p = float(len(left)) / (len(left) + len(right))\n",
    "    return current_uncertainty - p * gini(left) - (1 - p) * gini(right)"
   ]
  },
  {
   "cell_type": "code",
   "execution_count": 9,
   "metadata": {},
   "outputs": [],
   "source": [
    "def find_best_split(rows):\n",
    "    \"\"\"Find the best question to ask by iterating over every feature / value\n",
    "    and calculating the information gain.\"\"\"\n",
    "    best_gain = 0  # keep track of the best information gain\n",
    "    best_question = None  # keep train of the feature / value that produced it\n",
    "    current_uncertainty = gini(rows)\n",
    "    n_features = len(rows[0]) - 1  # number of columns\n",
    "\n",
    "    for col in range(n_features):  # for each feature\n",
    "\n",
    "        values = set([row[col] for row in rows])  # unique values in the column\n",
    "\n",
    "        for val in values:  # for each value\n",
    "\n",
    "            question = Question(col, val)\n",
    "\n",
    "            # try splitting the dataset\n",
    "            true_rows, false_rows = partition(rows, question)\n",
    "\n",
    "            # Skip this split if it doesn't divide the\n",
    "            # dataset.\n",
    "            if len(true_rows) == 0 or len(false_rows) == 0:\n",
    "                continue\n",
    "\n",
    "            # Calculate the information gain from this split\n",
    "            gain = info_gain(true_rows, false_rows, current_uncertainty)\n",
    "\n",
    "            # You actually can use '>' instead of '>=' here\n",
    "            # but I wanted the tree to look a certain way for our\n",
    "            # toy dataset.\n",
    "            if gain >= best_gain:\n",
    "                best_gain, best_question = gain, question\n",
    "\n",
    "    return best_gain, best_question"
   ]
  },
  {
   "cell_type": "code",
   "execution_count": 10,
   "metadata": {},
   "outputs": [],
   "source": [
    "class Leaf:\n",
    "    \"\"\"A Leaf node classifies data.\n",
    "\n",
    "    This holds a dictionary of class (e.g., \"Apple\") -> number of times\n",
    "    it appears in the rows from the training data that reach this leaf.\n",
    "    \"\"\"\n",
    "\n",
    "    def __init__(self, rows):\n",
    "        self.predictions = class_counts(rows)"
   ]
  },
  {
   "cell_type": "code",
   "execution_count": 11,
   "metadata": {},
   "outputs": [],
   "source": [
    "class Decision_Node:\n",
    "    \"\"\"A Decision Node asks a question.\n",
    "\n",
    "    This holds a reference to the question, and to the two child nodes.\n",
    "    \"\"\"\n",
    "\n",
    "    def __init__(self,\n",
    "                 question,\n",
    "                 true_branch,\n",
    "                 false_branch):\n",
    "        self.question = question\n",
    "        self.true_branch = true_branch\n",
    "        self.false_branch = false_branch"
   ]
  },
  {
   "cell_type": "code",
   "execution_count": 12,
   "metadata": {},
   "outputs": [],
   "source": [
    "def build_tree(rows):\n",
    "    \"\"\"Builds the tree.\n",
    "\n",
    "    Rules of recursion: 1) Believe that it works. 2) Start by checking\n",
    "    for the base case (no further information gain). 3) Prepare for\n",
    "    giant stack traces.\n",
    "    \"\"\"\n",
    "\n",
    "    # Try partitioing the dataset on each of the unique attribute,\n",
    "    # calculate the information gain,\n",
    "    # and return the question that produces the highest gain.\n",
    "    gain, question = find_best_split(rows)\n",
    "\n",
    "    # Base case: no further info gain\n",
    "    # Since we can ask no further questions,\n",
    "    # we'll return a leaf.\n",
    "    if gain == 0:\n",
    "        return Leaf(rows)\n",
    "\n",
    "    # If we reach here, we have found a useful feature / value\n",
    "    # to partition on.\n",
    "    true_rows, false_rows = partition(rows, question)\n",
    "\n",
    "    # Recursively build the true branch.\n",
    "    true_branch = build_tree(true_rows)\n",
    "\n",
    "    # Recursively build the false branch.\n",
    "    false_branch = build_tree(false_rows)\n",
    "\n",
    "    # Return a Question node.\n",
    "    # This records the best feature / value to ask at this point,\n",
    "    # as well as the branches to follow\n",
    "    # dependingo on the answer.\n",
    "    return Decision_Node(question, true_branch, false_branch)\n"
   ]
  },
  {
   "cell_type": "code",
   "execution_count": 13,
   "metadata": {},
   "outputs": [],
   "source": [
    "def print_tree(node, spacing=\"\"):\n",
    "    \"\"\"World's most elegant tree printing function.\"\"\"\n",
    "\n",
    "    # Base case: we've reached a leaf\n",
    "    if isinstance(node, Leaf):\n",
    "        print (spacing + \"Predict\", node.predictions)\n",
    "        return\n",
    "\n",
    "    # Print the question at this node\n",
    "    print (spacing + str(node.question))\n",
    "\n",
    "    # Call this function recursively on the true branch\n",
    "    print (spacing + '--> True:')\n",
    "    print_tree(node.true_branch, spacing + \"  \")\n",
    "\n",
    "    # Call this function recursively on the false branch\n",
    "    print (spacing + '--> False:')\n",
    "    print_tree(node.false_branch, spacing + \"  \")"
   ]
  },
  {
   "cell_type": "code",
   "execution_count": 14,
   "metadata": {},
   "outputs": [],
   "source": [
    "def classify(row, node):\n",
    "    \"\"\"See the 'rules of recursion' above.\"\"\"\n",
    "\n",
    "    # Base case: we've reached a leaf\n",
    "    if isinstance(node, Leaf):\n",
    "        return node.predictions\n",
    "\n",
    "    # Decide whether to follow the true-branch or the false-branch.\n",
    "    # Compare the feature / value stored in the node,\n",
    "    # to the example we're considering.\n",
    "    if node.question.match(row):\n",
    "        return classify(row, node.true_branch)\n",
    "    else:\n",
    "        return classify(row, node.false_branch)\n"
   ]
  },
  {
   "cell_type": "code",
   "execution_count": 15,
   "metadata": {},
   "outputs": [],
   "source": [
    "def print_leaf(counts):\n",
    "    \"\"\"A nicer way to print the predictions at a leaf.\"\"\"\n",
    "    total = sum(counts.values()) * 1.0\n",
    "    probs = {}\n",
    "    for lbl in counts.keys():\n",
    "        probs[lbl] = str(int(counts[lbl] / total * 100)) + \"%\"\n",
    "    return probs"
   ]
  },
  {
   "cell_type": "markdown",
   "metadata": {},
   "source": [
    "## Trabajo práctico\n",
    "\n",
    "1) Construir un pequeño dataset de entrenamiento para resolver un problema de clasificación simple (usted lo elige)"
   ]
  },
  {
   "cell_type": "code",
   "execution_count": 16,
   "metadata": {},
   "outputs": [
    {
     "data": {
      "text/html": [
       "<div>\n",
       "<style scoped>\n",
       "    .dataframe tbody tr th:only-of-type {\n",
       "        vertical-align: middle;\n",
       "    }\n",
       "\n",
       "    .dataframe tbody tr th {\n",
       "        vertical-align: top;\n",
       "    }\n",
       "\n",
       "    .dataframe thead th {\n",
       "        text-align: right;\n",
       "    }\n",
       "</style>\n",
       "<table border=\"1\" class=\"dataframe\">\n",
       "  <thead>\n",
       "    <tr style=\"text-align: right;\">\n",
       "      <th></th>\n",
       "      <th>atr1</th>\n",
       "      <th>atr2</th>\n",
       "      <th>atr3</th>\n",
       "      <th>atr4</th>\n",
       "      <th>atr5</th>\n",
       "      <th>label</th>\n",
       "    </tr>\n",
       "  </thead>\n",
       "  <tbody>\n",
       "    <tr>\n",
       "      <th>0</th>\n",
       "      <td>high</td>\n",
       "      <td>left</td>\n",
       "      <td>impression</td>\n",
       "      <td>1</td>\n",
       "      <td>1</td>\n",
       "      <td>yes</td>\n",
       "    </tr>\n",
       "    <tr>\n",
       "      <th>1</th>\n",
       "      <td>high</td>\n",
       "      <td>left</td>\n",
       "      <td>political</td>\n",
       "      <td>1</td>\n",
       "      <td>1</td>\n",
       "      <td>yes</td>\n",
       "    </tr>\n",
       "    <tr>\n",
       "      <th>2</th>\n",
       "      <td>medium</td>\n",
       "      <td>middle</td>\n",
       "      <td>tourism</td>\n",
       "      <td>1</td>\n",
       "      <td>1</td>\n",
       "      <td>yes</td>\n",
       "    </tr>\n",
       "    <tr>\n",
       "      <th>3</th>\n",
       "      <td>high</td>\n",
       "      <td>left</td>\n",
       "      <td>political</td>\n",
       "      <td>1</td>\n",
       "      <td>1</td>\n",
       "      <td>yes</td>\n",
       "    </tr>\n",
       "    <tr>\n",
       "      <th>4</th>\n",
       "      <td>medium</td>\n",
       "      <td>middle</td>\n",
       "      <td>news</td>\n",
       "      <td>1</td>\n",
       "      <td>1</td>\n",
       "      <td>yes</td>\n",
       "    </tr>\n",
       "  </tbody>\n",
       "</table>\n",
       "</div>"
      ],
      "text/plain": [
       "     atr1    atr2        atr3  atr4  atr5 label\n",
       "0    high    left  impression     1     1   yes\n",
       "1    high    left   political     1     1   yes\n",
       "2  medium  middle     tourism     1     1   yes\n",
       "3    high    left   political     1     1   yes\n",
       "4  medium  middle        news     1     1   yes"
      ]
     },
     "execution_count": 16,
     "metadata": {},
     "output_type": "execute_result"
    }
   ],
   "source": [
    "import pandas as pd\n",
    "url = \"lab6_example.csv\"\n",
    "\n",
    "# Read dataset to pandas dataframe\n",
    "dataset = pd.read_csv(url) \n",
    "header = [\"atr1\",\"atr2\",\"atr3\",\"atr4\",\"atr5\"]\n",
    "dataset.head()\n"
   ]
  },
  {
   "cell_type": "markdown",
   "metadata": {},
   "source": [
    "2) Utilizar la implementación de CART (código anterior) para medir los coeficientes de 'Gini impurity' e 'Information Gain' para ciertas preguntas y ciertos nodos"
   ]
  },
  {
   "cell_type": "markdown",
   "metadata": {},
   "source": [
    "<b>Gini imputity</b>"
   ]
  },
  {
   "cell_type": "code",
   "execution_count": 17,
   "metadata": {},
   "outputs": [
    {
     "data": {
      "text/plain": [
       "0    yes\n",
       "1    yes\n",
       "2    yes\n",
       "3    yes\n",
       "4    yes\n",
       "Name: label, dtype: object"
      ]
     },
     "execution_count": 17,
     "metadata": {},
     "output_type": "execute_result"
    }
   ],
   "source": [
    "# Now, we'll look at a dataset with many different labels\n",
    "categorias_blog = dataset['label']\n",
    "categorias_blog.head()"
   ]
  },
  {
   "cell_type": "code",
   "execution_count": 18,
   "metadata": {},
   "outputs": [
    {
     "data": {
      "text/plain": [
       "0.9994000000000001"
      ]
     },
     "execution_count": 18,
     "metadata": {},
     "output_type": "execute_result"
    }
   ],
   "source": [
    "gini(dataset)"
   ]
  },
  {
   "cell_type": "code",
   "execution_count": 19,
   "metadata": {},
   "outputs": [
    {
     "data": {
      "text/plain": [
       "0.43519999999999986"
      ]
     },
     "execution_count": 19,
     "metadata": {},
     "output_type": "execute_result"
    }
   ],
   "source": [
    "gini(categorias_blog)"
   ]
  },
  {
   "cell_type": "markdown",
   "metadata": {},
   "source": [
    "<b>Information Gain</b>"
   ]
  },
  {
   "cell_type": "code",
   "execution_count": 20,
   "metadata": {},
   "outputs": [],
   "source": [
    "dataset2 =dataset.as_matrix()\n",
    "my_tree = build_tree(dataset2)"
   ]
  },
  {
   "cell_type": "code",
   "execution_count": 21,
   "metadata": {},
   "outputs": [
    {
     "data": {
      "text/plain": [
       "0.1660666666666668"
      ]
     },
     "execution_count": 21,
     "metadata": {},
     "output_type": "execute_result"
    }
   ],
   "source": [
    "#######\n",
    "# Demo:\n",
    "# Calculate the uncertainy of our training data.\n",
    "current_uncertainty = gini(dataset)\n",
    "current_uncertainty\n",
    "# How much information do we gain by partioning on 'Green'?\n",
    "true_rows, false_rows = partition(dataset, Question(0, 'high'))\n",
    "info_gain(true_rows, false_rows, current_uncertainty)\n"
   ]
  },
  {
   "cell_type": "code",
   "execution_count": 22,
   "metadata": {},
   "outputs": [
    {
     "data": {
      "text/plain": [
       "0.1660666666666668"
      ]
     },
     "execution_count": 22,
     "metadata": {},
     "output_type": "execute_result"
    }
   ],
   "source": [
    "# How much information do we gain by partioning on '1'?\n",
    "true_rows, false_rows = partition(dataset, Question(0, 'medium'))\n",
    "info_gain(true_rows, false_rows, current_uncertainty)"
   ]
  },
  {
   "cell_type": "code",
   "execution_count": 23,
   "metadata": {},
   "outputs": [
    {
     "data": {
      "text/plain": [
       "Is atr5 == 0?"
      ]
     },
     "execution_count": 23,
     "metadata": {},
     "output_type": "execute_result"
    }
   ],
   "source": [
    "Question(4, '0')"
   ]
  },
  {
   "cell_type": "markdown",
   "metadata": {},
   "source": [
    "3) Pedir a un compañero de construir un pequeño dataset de test siguiendo el mismo formato que el dataset de entrenamiento"
   ]
  },
  {
   "cell_type": "code",
   "execution_count": 24,
   "metadata": {},
   "outputs": [
    {
     "data": {
      "text/html": [
       "<div>\n",
       "<style scoped>\n",
       "    .dataframe tbody tr th:only-of-type {\n",
       "        vertical-align: middle;\n",
       "    }\n",
       "\n",
       "    .dataframe tbody tr th {\n",
       "        vertical-align: top;\n",
       "    }\n",
       "\n",
       "    .dataframe thead th {\n",
       "        text-align: right;\n",
       "    }\n",
       "</style>\n",
       "<table border=\"1\" class=\"dataframe\">\n",
       "  <thead>\n",
       "    <tr style=\"text-align: right;\">\n",
       "      <th></th>\n",
       "      <th>atr1</th>\n",
       "      <th>atr2</th>\n",
       "      <th>atr3</th>\n",
       "      <th>atr4</th>\n",
       "      <th>atr5</th>\n",
       "      <th>label</th>\n",
       "    </tr>\n",
       "  </thead>\n",
       "  <tbody>\n",
       "    <tr>\n",
       "      <th>0</th>\n",
       "      <td>high</td>\n",
       "      <td>left</td>\n",
       "      <td>impression</td>\n",
       "      <td>1</td>\n",
       "      <td>1</td>\n",
       "      <td>yes</td>\n",
       "    </tr>\n",
       "    <tr>\n",
       "      <th>1</th>\n",
       "      <td>high</td>\n",
       "      <td>left</td>\n",
       "      <td>political</td>\n",
       "      <td>1</td>\n",
       "      <td>1</td>\n",
       "      <td>yes</td>\n",
       "    </tr>\n",
       "    <tr>\n",
       "      <th>2</th>\n",
       "      <td>medium</td>\n",
       "      <td>middle</td>\n",
       "      <td>tourism</td>\n",
       "      <td>1</td>\n",
       "      <td>1</td>\n",
       "      <td>yes</td>\n",
       "    </tr>\n",
       "    <tr>\n",
       "      <th>3</th>\n",
       "      <td>high</td>\n",
       "      <td>left</td>\n",
       "      <td>political</td>\n",
       "      <td>1</td>\n",
       "      <td>1</td>\n",
       "      <td>yes</td>\n",
       "    </tr>\n",
       "    <tr>\n",
       "      <th>4</th>\n",
       "      <td>medium</td>\n",
       "      <td>middle</td>\n",
       "      <td>news</td>\n",
       "      <td>1</td>\n",
       "      <td>1</td>\n",
       "      <td>yes</td>\n",
       "    </tr>\n",
       "  </tbody>\n",
       "</table>\n",
       "</div>"
      ],
      "text/plain": [
       "     atr1    atr2        atr3  atr4  atr5 label\n",
       "0    high    left  impression     1     1   yes\n",
       "1    high    left   political     1     1   yes\n",
       "2  medium  middle     tourism     1     1   yes\n",
       "3    high    left   political     1     1   yes\n",
       "4  medium  middle        news     1     1   yes"
      ]
     },
     "execution_count": 24,
     "metadata": {},
     "output_type": "execute_result"
    }
   ],
   "source": [
    "url = \"lab6_example.csv\"\n",
    "\n",
    "# Read dataset to pandas dataframe\n",
    "dataset_test = pd.read_csv(url) \n",
    "dataset_test.head()"
   ]
  },
  {
   "cell_type": "markdown",
   "metadata": {},
   "source": [
    "4) Visualizar el arbol de decisión aprendido"
   ]
  },
  {
   "cell_type": "code",
   "execution_count": 25,
   "metadata": {},
   "outputs": [
    {
     "name": "stdout",
     "output_type": "stream",
     "text": [
      "Is atr1 == low?\n",
      "--> True:\n",
      "  Is atr3 == political?\n",
      "  --> True:\n",
      "    Predict {'yes': 2}\n",
      "  --> False:\n",
      "    Is atr4 >= 1?\n",
      "    --> True:\n",
      "      Predict {'no': 8}\n",
      "    --> False:\n",
      "      Is atr5 >= 1?\n",
      "      --> True:\n",
      "        Predict {'no': 2}\n",
      "      --> False:\n",
      "        Predict {'yes': 2}\n",
      "--> False:\n",
      "  Is atr2 == right?\n",
      "  --> True:\n",
      "    Is atr3 == news?\n",
      "    --> True:\n",
      "      Predict {'no': 4}\n",
      "    --> False:\n",
      "      Is atr5 >= 1?\n",
      "      --> True:\n",
      "        Is atr3 == political?\n",
      "        --> True:\n",
      "          Is atr4 >= 1?\n",
      "          --> True:\n",
      "            Predict {'yes': 8}\n",
      "          --> False:\n",
      "            Predict {'no': 2}\n",
      "        --> False:\n",
      "          Is atr3 == tourism?\n",
      "          --> True:\n",
      "            Is atr1 == medium?\n",
      "            --> True:\n",
      "              Predict {'yes': 3, 'no': 2}\n",
      "            --> False:\n",
      "              Predict {'yes': 1, 'no': 1}\n",
      "          --> False:\n",
      "            Predict {'no': 3}\n",
      "      --> False:\n",
      "        Predict {'no': 2}\n",
      "  --> False:\n",
      "    Is atr3 == scientific?\n",
      "    --> True:\n",
      "      Is atr2 == left?\n",
      "      --> True:\n",
      "        Predict {'no': 2}\n",
      "      --> False:\n",
      "        Predict {'yes': 1}\n",
      "    --> False:\n",
      "      Is atr4 >= 1?\n",
      "      --> True:\n",
      "        Is atr1 == medium?\n",
      "        --> True:\n",
      "          Predict {'yes': 26}\n",
      "        --> False:\n",
      "          Is atr3 == news?\n",
      "          --> True:\n",
      "            Predict {'yes': 2}\n",
      "          --> False:\n",
      "            Is atr3 == impression?\n",
      "            --> True:\n",
      "              Predict {'yes': 3, 'no': 1}\n",
      "            --> False:\n",
      "              Predict {'yes': 14, 'no': 3}\n",
      "      --> False:\n",
      "        Is atr2 == left?\n",
      "        --> True:\n",
      "          Predict {'yes': 6}\n",
      "        --> False:\n",
      "          Predict {'no': 2}\n"
     ]
    }
   ],
   "source": [
    "dataset2 =dataset.as_matrix()\n",
    "my_tree = build_tree(dataset2)\n",
    "print_tree(my_tree)"
   ]
  },
  {
   "cell_type": "markdown",
   "metadata": {},
   "source": [
    "5) Evaluar la Precision y el Recall de su modelo"
   ]
  },
  {
   "cell_type": "code",
   "execution_count": 26,
   "metadata": {},
   "outputs": [
    {
     "name": "stdout",
     "output_type": "stream",
     "text": [
      "{'yes': '75%', 'no': '25%'}\n",
      "{'yes': '82%', 'no': '17%'}\n",
      "{'yes': '100%'}\n",
      "{'yes': '82%', 'no': '17%'}\n",
      "{'yes': '100%'}\n",
      "{'yes': '100%'}\n",
      "{'yes': '82%', 'no': '17%'}\n",
      "{'yes': '100%'}\n",
      "{'no': '100%'}\n",
      "{'yes': '60%', 'no': '40%'}\n",
      "{'yes': '50%', 'no': '50%'}\n",
      "{'yes': '100%'}\n",
      "{'yes': '82%', 'no': '17%'}\n",
      "{'no': '100%'}\n",
      "{'yes': '82%', 'no': '17%'}\n",
      "{'yes': '100%'}\n",
      "{'yes': '100%'}\n",
      "{'yes': '100%'}\n",
      "{'yes': '100%'}\n",
      "{'yes': '50%', 'no': '50%'}\n",
      "{'yes': '82%', 'no': '17%'}\n",
      "{'yes': '100%'}\n",
      "{'no': '100%'}\n",
      "{'no': '100%'}\n",
      "{'yes': '100%'}\n",
      "{'yes': '82%', 'no': '17%'}\n",
      "{'yes': '100%'}\n",
      "{'yes': '100%'}\n",
      "{'yes': '100%'}\n",
      "{'no': '100%'}\n",
      "{'yes': '100%'}\n",
      "{'no': '100%'}\n",
      "{'yes': '60%', 'no': '40%'}\n",
      "{'yes': '100%'}\n",
      "{'yes': '75%', 'no': '25%'}\n",
      "{'yes': '100%'}\n",
      "{'yes': '100%'}\n",
      "{'no': '100%'}\n",
      "{'no': '100%'}\n",
      "{'yes': '100%'}\n",
      "{'yes': '82%', 'no': '17%'}\n",
      "{'yes': '100%'}\n",
      "{'yes': '82%', 'no': '17%'}\n",
      "{'no': '100%'}\n",
      "{'yes': '100%'}\n",
      "{'yes': '100%'}\n",
      "{'no': '100%'}\n",
      "{'no': '100%'}\n",
      "{'no': '100%'}\n",
      "{'yes': '100%'}\n",
      "{'yes': '82%', 'no': '17%'}\n",
      "{'yes': '82%', 'no': '17%'}\n",
      "{'yes': '100%'}\n",
      "{'yes': '82%', 'no': '17%'}\n",
      "{'yes': '100%'}\n",
      "{'yes': '100%'}\n",
      "{'yes': '82%', 'no': '17%'}\n",
      "{'yes': '100%'}\n",
      "{'no': '100%'}\n",
      "{'yes': '60%', 'no': '40%'}\n",
      "{'yes': '60%', 'no': '40%'}\n",
      "{'yes': '100%'}\n",
      "{'yes': '75%', 'no': '25%'}\n",
      "{'no': '100%'}\n",
      "{'yes': '82%', 'no': '17%'}\n",
      "{'yes': '100%'}\n",
      "{'yes': '100%'}\n",
      "{'yes': '100%'}\n",
      "{'yes': '100%'}\n",
      "{'no': '100%'}\n",
      "{'yes': '100%'}\n",
      "{'yes': '100%'}\n",
      "{'no': '100%'}\n",
      "{'no': '100%'}\n",
      "{'yes': '100%'}\n",
      "{'yes': '82%', 'no': '17%'}\n",
      "{'yes': '100%'}\n",
      "{'yes': '100%'}\n",
      "{'yes': '100%'}\n",
      "{'no': '100%'}\n",
      "{'yes': '100%'}\n",
      "{'no': '100%'}\n",
      "{'yes': '60%', 'no': '40%'}\n",
      "{'yes': '100%'}\n",
      "{'yes': '75%', 'no': '25%'}\n",
      "{'yes': '100%'}\n",
      "{'yes': '100%'}\n",
      "{'no': '100%'}\n",
      "{'no': '100%'}\n",
      "{'yes': '100%'}\n",
      "{'yes': '82%', 'no': '17%'}\n",
      "{'yes': '100%'}\n",
      "{'yes': '82%', 'no': '17%'}\n",
      "{'no': '100%'}\n",
      "{'yes': '100%'}\n",
      "{'yes': '100%'}\n",
      "{'no': '100%'}\n",
      "{'no': '100%'}\n",
      "{'no': '100%'}\n",
      "{'yes': '100%'}\n"
     ]
    }
   ],
   "source": [
    "dataset_test2 = dataset_test.as_matrix()\n",
    "for row in dataset_test2:\n",
    "    print (\n",
    "           (print_leaf(classify(row, my_tree))))"
   ]
  },
  {
   "cell_type": "code",
   "execution_count": 27,
   "metadata": {},
   "outputs": [
    {
     "data": {
      "text/html": [
       "<div>\n",
       "<style scoped>\n",
       "    .dataframe tbody tr th:only-of-type {\n",
       "        vertical-align: middle;\n",
       "    }\n",
       "\n",
       "    .dataframe tbody tr th {\n",
       "        vertical-align: top;\n",
       "    }\n",
       "\n",
       "    .dataframe thead th {\n",
       "        text-align: right;\n",
       "    }\n",
       "</style>\n",
       "<table border=\"1\" class=\"dataframe\">\n",
       "  <thead>\n",
       "    <tr style=\"text-align: right;\">\n",
       "      <th></th>\n",
       "      <th>y_pred</th>\n",
       "    </tr>\n",
       "  </thead>\n",
       "  <tbody>\n",
       "    <tr>\n",
       "      <th>0</th>\n",
       "      <td>yes</td>\n",
       "    </tr>\n",
       "    <tr>\n",
       "      <th>1</th>\n",
       "      <td>yes</td>\n",
       "    </tr>\n",
       "    <tr>\n",
       "      <th>2</th>\n",
       "      <td>yes</td>\n",
       "    </tr>\n",
       "    <tr>\n",
       "      <th>3</th>\n",
       "      <td>yes</td>\n",
       "    </tr>\n",
       "    <tr>\n",
       "      <th>4</th>\n",
       "      <td>yes</td>\n",
       "    </tr>\n",
       "  </tbody>\n",
       "</table>\n",
       "</div>"
      ],
      "text/plain": [
       "  y_pred\n",
       "0    yes\n",
       "1    yes\n",
       "2    yes\n",
       "3    yes\n",
       "4    yes"
      ]
     },
     "execution_count": 27,
     "metadata": {},
     "output_type": "execute_result"
    }
   ],
   "source": [
    "url = \"lab6_pred.csv\"\n",
    "\n",
    "# Read dataset to pandas dataframe\n",
    "y_pred = pd.read_csv(url) \n",
    "y_pred.head()"
   ]
  },
  {
   "cell_type": "code",
   "execution_count": 28,
   "metadata": {},
   "outputs": [
    {
     "name": "stdout",
     "output_type": "stream",
     "text": [
      "             precision    recall  f1-score   support\n",
      "\n",
      "         no       1.00      0.78      0.88        32\n",
      "        yes       0.91      1.00      0.95        68\n",
      "\n",
      "avg / total       0.94      0.93      0.93       100\n",
      "\n"
     ]
    }
   ],
   "source": [
    "y_test = dataset_test['label']\n",
    "from sklearn.metrics import classification_report\n",
    "print(classification_report(y_test, y_pred))"
   ]
  },
  {
   "cell_type": "markdown",
   "metadata": {},
   "source": [
    "<b>Respuesta</b>"
   ]
  },
  {
   "cell_type": "markdown",
   "metadata": {},
   "source": [
    "La presición general del modelo es de 94% y el recall general es de 93%."
   ]
  },
  {
   "cell_type": "markdown",
   "metadata": {},
   "source": [
    "<b><h3>Definir los siguientes terminos:</h3></b>"
   ]
  },
  {
   "cell_type": "markdown",
   "metadata": {},
   "source": [
    "KNN: Es un algoritmo de aprendizage supervisado de tipo clasificación. Básicamente estima la distancia según un valor k dado de los vecinos de algun dato observado y determina a traves de la densidad de vecinos de diferentes clases la predicción."
   ]
  },
  {
   "cell_type": "markdown",
   "metadata": {},
   "source": [
    "Regresión Logística: Algoritmo de aprendizaje supervisado de tipo clasificación. A través de un dataset, obtiene un conjuntos de datos de entrenamiento y de pruebas. Utilizando el conjunto de datos de entrenamiento y obtiene entre otros los coeficientes de la función logística. Una vez obtenida la función logística, esta se utiliza para realizar las predicciones."
   ]
  },
  {
   "cell_type": "markdown",
   "metadata": {},
   "source": [
    "Decision Tree: Dado un conjunto de datos se fabrican diagramas de construcciones lógicas, muy similares a los sistemas de predicción basados en reglas, que sirven para representar y categorizar una serie de condiciones que ocurren de forma sucesiva, para la resolución de un problema. Se toma un conjunto de datos de entrenamiento de un conjunto de datos. A partir de un algoritmo de DesionTree, por ejemplo CART, se crea una serie de reglas denominadas arbol de decisión, que finalmente realizaran la predicción."
   ]
  },
  {
   "cell_type": "markdown",
   "metadata": {},
   "source": [
    "Random Forest: Random Forest utiliza internamente DesisionTree para realizar las predicciones. El funcionamiento de Random Forest se podría dividir en 2 partes:\n",
    "- Muestras de datos al azar: Esto quiere decir que se elijen varios conjuntos de entrenamiento del dataset de forma aleatoria, pudiendo existir solapamiento entre datos seleccionados.\n",
    "- Voto: Con los datos de entrenamineto seleccioandos se crea un DesisionTree por cada uno de ellos y dependiendo de lo que la mayoria de DesisionTree diga como respuesta a la predicción, será el resultado de la predicción final."
   ]
  },
  {
   "cell_type": "markdown",
   "metadata": {},
   "source": [
    "SVM: Dado un conjunto de ejemplos de entrenamiento (de muestras) podemos etiquetar las clases y entrenar una SVM para construir un modelo que prediga la clase de una nueva muestra. Intuitivamente, una SVM es un modelo que representa a los puntos de muestra en el espacio, separando las clases a 2 espacios lo más amplios posibles mediante un hiperplano de separación definido como el vector entre los 2 puntos, de las 2 clases, más cercanos al que se llama vector soporte. Cuando las nuevas muestras se ponen en correspondencia con dicho modelo, en función de los espacios a los que pertenezcan, pueden ser clasificadas a una o la otra clase."
   ]
  },
  {
   "cell_type": "markdown",
   "metadata": {},
   "source": [
    "Naive Bayes: Un clasificador de Bayes ingenuo asume que la presencia o ausencia de una característica particular no está relacionada con la presencia o ausencia de cualquier otra característica, dada la clase variable. Por ejemplo, una fruta puede ser considerada como una manzana si es roja, redonda y de alrededor de 7 cm de diámetro. Un clasificador de Bayes ingenuo considera que cada una de estas características contribuye de manera independiente a la probabilidad de que esta fruta sea una manzana, independientemente de la presencia o ausencia de las otras características."
   ]
  }
 ],
 "metadata": {
  "kernelspec": {
   "display_name": "Python 3",
   "language": "python",
   "name": "python3"
  },
  "language_info": {
   "codemirror_mode": {
    "name": "ipython",
    "version": 3
   },
   "file_extension": ".py",
   "mimetype": "text/x-python",
   "name": "python",
   "nbconvert_exporter": "python",
   "pygments_lexer": "ipython3",
   "version": "3.6.4"
  }
 },
 "nbformat": 4,
 "nbformat_minor": 2
}
